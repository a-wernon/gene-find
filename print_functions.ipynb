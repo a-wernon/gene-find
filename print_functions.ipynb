{
 "cells": [
  {
   "cell_type": "code",
   "execution_count": 1,
   "metadata": {},
   "outputs": [],
   "source": [
    "def sprint(*args, supress_output = False,**kwargs):\n",
    "    if not supress_output:\n",
    "        print(*args, **kwargs)\n",
    "\n",
    "def print_to_string(*args, **kwargs):\n",
    "    output = io.StringIO()\n",
    "    print(*args, file=output, **kwargs)\n",
    "    contents = output.getvalue()\n",
    "    output.close()\n",
    "    return contents  "
   ]
  },
  {
   "cell_type": "code",
   "execution_count": 6,
   "metadata": {},
   "outputs": [
    {
     "data": {
      "text/plain": [
       "('fffaaa', ['fff', 'aaa'])"
      ]
     },
     "execution_count": 6,
     "metadata": {},
     "output_type": "execute_result"
    }
   ],
   "source": [
    "a = \"fffaaa\"\n",
    "b = [\"fff\", \"aaa\"]\n",
    "a[0:6], b[0//3:6//3]"
   ]
  },
  {
   "cell_type": "code",
   "execution_count": null,
   "metadata": {},
   "outputs": [],
   "source": []
  }
 ],
 "metadata": {
  "kernelspec": {
   "display_name": "Python 3",
   "language": "python",
   "name": "python3"
  },
  "language_info": {
   "codemirror_mode": {
    "name": "ipython",
    "version": 3
   },
   "file_extension": ".py",
   "mimetype": "text/x-python",
   "name": "python",
   "nbconvert_exporter": "python",
   "pygments_lexer": "ipython3",
   "version": "3.7.4"
  }
 },
 "nbformat": 4,
 "nbformat_minor": 2
}
