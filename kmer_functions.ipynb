{
 "cells": [
  {
   "cell_type": "code",
   "execution_count": 1,
   "metadata": {},
   "outputs": [],
   "source": [
    "def genereate_kmers(k):\n",
    "    bases = ['A','T','G','C']\n",
    "    return [''.join(p) for p in itertools.product(bases, repeat=k)]\n",
    "\n",
    "\n",
    "def dict_add(d1, d2):\n",
    "    d3 = dict(d1)\n",
    "    for k2 in d2.keys():\n",
    "        if not k2 in d3:\n",
    "            d3[k2] = d2[k2]\n",
    "        else:\n",
    "            d3[k2] += d2[k2]\n",
    "    return d3\n",
    "\n",
    "def dict_subst(d1, d2):\n",
    "    d3 = dict(d1)\n",
    "    for k2 in d2.keys():\n",
    "        if not k2 in d3:\n",
    "            d3[k2] = -d2[k2]\n",
    "        else:\n",
    "            d3[k2] -= d2[k2]\n",
    "    return d3\n",
    "\n",
    "\n",
    "\n",
    "def dict_sum(d):\n",
    "    return sum(d.values())\n",
    "\n",
    "def dict_normalise(d):\n",
    "    s = dict_sum(d)\n",
    "    for k in d.keys():\n",
    "        d[k] = d[k] / s\n",
    "    return d\n",
    "\n",
    "def dict_multiply_constant(d, const):\n",
    "    for k in d.keys():\n",
    "        d[k] = d[k] * const\n",
    "    return d\n",
    "\n",
    "\n",
    "def calculate_kmers(seq, kmers = range(1,7)):\n",
    "    if type(seq) != Seq:\n",
    "        print(type(seq))\n",
    "        seq = Seq(seq)\n",
    "    results = []\n",
    "    for mer in kmers:\n",
    "        quers = genereate_kmers(mer)\n",
    "        stats = dict()\n",
    "        for q in quers:\n",
    "            stats[q] = seq.count_overlap(q)\n",
    "        results.append(stats)\n",
    "    return results\n",
    "\n",
    "def compare_kmers(all_stats, gene_stats):\n",
    "    all_stats = [dict_normalise(e) for e  in all_stats]\n",
    "    gene_stats = [dict_normalise(e) for e  in gene_stats]\n",
    "    return [dict_subst(*e) for e in zip(all_stats, gene_stats)]"
   ]
  },
  {
   "cell_type": "code",
   "execution_count": null,
   "metadata": {},
   "outputs": [],
   "source": []
  }
 ],
 "metadata": {
  "kernelspec": {
   "display_name": "Python 3",
   "language": "python",
   "name": "python3"
  },
  "language_info": {
   "codemirror_mode": {
    "name": "ipython",
    "version": 3
   },
   "file_extension": ".py",
   "mimetype": "text/x-python",
   "name": "python",
   "nbconvert_exporter": "python",
   "pygments_lexer": "ipython3",
   "version": "3.8.8"
  }
 },
 "nbformat": 4,
 "nbformat_minor": 2
}
